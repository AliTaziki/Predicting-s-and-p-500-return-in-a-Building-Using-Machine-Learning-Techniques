{
 "cells": [
  {
   "cell_type": "code",
   "execution_count": 213,
   "id": "0d83149e",
   "metadata": {},
   "outputs": [],
   "source": [
    "import sys\n",
    "import pandas as pd\n",
    "from matplotlib import pyplot as plt\n",
    "import numpy as np\n",
    "import scipy as sp\n",
    "import seaborn as sns\n",
    "import IPython\n",
    "import sklearn\n",
    "import warnings \n",
    "warnings.simplefilter('ignore')\n",
    "%matplotlib Inline"
   ]
  },
  {
   "cell_type": "code",
   "execution_count": 214,
   "id": "45abc3bd",
   "metadata": {},
   "outputs": [
    {
     "data": {
      "text/plain": [
       "(50, 6)"
      ]
     },
     "execution_count": 214,
     "metadata": {},
     "output_type": "execute_result"
    }
   ],
   "source": [
    "df = pd.read_csv('/Users/ali/Desktop/predict s&p/precictions&p.csv')\n",
    "df.shape"
   ]
  },
  {
   "cell_type": "code",
   "execution_count": 215,
   "id": "f3a72891",
   "metadata": {},
   "outputs": [
    {
     "data": {
      "text/html": [
       "<div>\n",
       "<style scoped>\n",
       "    .dataframe tbody tr th:only-of-type {\n",
       "        vertical-align: middle;\n",
       "    }\n",
       "\n",
       "    .dataframe tbody tr th {\n",
       "        vertical-align: top;\n",
       "    }\n",
       "\n",
       "    .dataframe thead th {\n",
       "        text-align: right;\n",
       "    }\n",
       "</style>\n",
       "<table border=\"1\" class=\"dataframe\">\n",
       "  <thead>\n",
       "    <tr style=\"text-align: right;\">\n",
       "      <th></th>\n",
       "      <th>year</th>\n",
       "      <th>Inflation, consumer prices (annual %)</th>\n",
       "      <th>Real interest rate (%)</th>\n",
       "      <th>GDP growth (annual %)</th>\n",
       "      <th>Unemployment, total (% of total labor force)</th>\n",
       "      <th>Sandp_500_Historical_Annual_Returns</th>\n",
       "    </tr>\n",
       "  </thead>\n",
       "  <tbody>\n",
       "    <tr>\n",
       "      <th>0</th>\n",
       "      <td>1972</td>\n",
       "      <td>3.272278</td>\n",
       "      <td>0.887229</td>\n",
       "      <td>5.258907</td>\n",
       "      <td>5.6</td>\n",
       "      <td>15.63</td>\n",
       "    </tr>\n",
       "    <tr>\n",
       "      <th>1</th>\n",
       "      <td>1973</td>\n",
       "      <td>6.177760</td>\n",
       "      <td>2.409735</td>\n",
       "      <td>5.645723</td>\n",
       "      <td>4.9</td>\n",
       "      <td>-17.37</td>\n",
       "    </tr>\n",
       "    <tr>\n",
       "      <th>2</th>\n",
       "      <td>1974</td>\n",
       "      <td>11.054805</td>\n",
       "      <td>1.651064</td>\n",
       "      <td>-0.540552</td>\n",
       "      <td>5.6</td>\n",
       "      <td>-29.72</td>\n",
       "    </tr>\n",
       "    <tr>\n",
       "      <th>3</th>\n",
       "      <td>1975</td>\n",
       "      <td>9.143147</td>\n",
       "      <td>-1.281419</td>\n",
       "      <td>-0.205456</td>\n",
       "      <td>8.5</td>\n",
       "      <td>31.55</td>\n",
       "    </tr>\n",
       "    <tr>\n",
       "      <th>4</th>\n",
       "      <td>1976</td>\n",
       "      <td>5.744813</td>\n",
       "      <td>1.266892</td>\n",
       "      <td>5.388139</td>\n",
       "      <td>7.7</td>\n",
       "      <td>19.15</td>\n",
       "    </tr>\n",
       "  </tbody>\n",
       "</table>\n",
       "</div>"
      ],
      "text/plain": [
       "   year  Inflation, consumer prices (annual %)  Real interest rate (%)  \\\n",
       "0  1972                               3.272278                0.887229   \n",
       "1  1973                               6.177760                2.409735   \n",
       "2  1974                              11.054805                1.651064   \n",
       "3  1975                               9.143147               -1.281419   \n",
       "4  1976                               5.744813                1.266892   \n",
       "\n",
       "   GDP growth (annual %)  Unemployment, total (% of total labor force)  \\\n",
       "0               5.258907                                           5.6   \n",
       "1               5.645723                                           4.9   \n",
       "2              -0.540552                                           5.6   \n",
       "3              -0.205456                                           8.5   \n",
       "4               5.388139                                           7.7   \n",
       "\n",
       "   Sandp_500_Historical_Annual_Returns  \n",
       "0                                15.63  \n",
       "1                               -17.37  \n",
       "2                               -29.72  \n",
       "3                                31.55  \n",
       "4                                19.15  "
      ]
     },
     "execution_count": 215,
     "metadata": {},
     "output_type": "execute_result"
    }
   ],
   "source": [
    "df.head()"
   ]
  },
  {
   "cell_type": "code",
   "execution_count": 216,
   "id": "cc9c4031",
   "metadata": {},
   "outputs": [
    {
     "name": "stdout",
     "output_type": "stream",
     "text": [
      "<class 'pandas.core.frame.DataFrame'>\n",
      "RangeIndex: 50 entries, 0 to 49\n",
      "Data columns (total 6 columns):\n",
      " #   Column                                        Non-Null Count  Dtype  \n",
      "---  ------                                        --------------  -----  \n",
      " 0   year                                          50 non-null     int64  \n",
      " 1   Inflation, consumer prices (annual %)         50 non-null     float64\n",
      " 2   Real interest rate (%)                        50 non-null     float64\n",
      " 3   GDP growth (annual %)                         50 non-null     float64\n",
      " 4   Unemployment, total (% of total labor force)  50 non-null     float64\n",
      " 5   Sandp_500_Historical_Annual_Returns           50 non-null     float64\n",
      "dtypes: float64(5), int64(1)\n",
      "memory usage: 2.5 KB\n"
     ]
    }
   ],
   "source": [
    "df.info()"
   ]
  },
  {
   "cell_type": "code",
   "execution_count": 217,
   "id": "50bd3045",
   "metadata": {},
   "outputs": [
    {
     "data": {
      "text/html": [
       "<div>\n",
       "<style scoped>\n",
       "    .dataframe tbody tr th:only-of-type {\n",
       "        vertical-align: middle;\n",
       "    }\n",
       "\n",
       "    .dataframe tbody tr th {\n",
       "        vertical-align: top;\n",
       "    }\n",
       "\n",
       "    .dataframe thead th {\n",
       "        text-align: right;\n",
       "    }\n",
       "</style>\n",
       "<table border=\"1\" class=\"dataframe\">\n",
       "  <thead>\n",
       "    <tr style=\"text-align: right;\">\n",
       "      <th></th>\n",
       "      <th>year</th>\n",
       "      <th>Inflation, consumer prices (annual %)</th>\n",
       "      <th>Real interest rate (%)</th>\n",
       "      <th>GDP growth (annual %)</th>\n",
       "      <th>Unemployment, total (% of total labor force)</th>\n",
       "      <th>Sandp_500_Historical_Annual_Returns</th>\n",
       "    </tr>\n",
       "  </thead>\n",
       "  <tbody>\n",
       "    <tr>\n",
       "      <th>45</th>\n",
       "      <td>2017</td>\n",
       "      <td>2.130110</td>\n",
       "      <td>2.157870</td>\n",
       "      <td>2.255680</td>\n",
       "      <td>4.36</td>\n",
       "      <td>19.42</td>\n",
       "    </tr>\n",
       "    <tr>\n",
       "      <th>46</th>\n",
       "      <td>2018</td>\n",
       "      <td>2.442583</td>\n",
       "      <td>2.456470</td>\n",
       "      <td>2.918857</td>\n",
       "      <td>3.90</td>\n",
       "      <td>-6.24</td>\n",
       "    </tr>\n",
       "    <tr>\n",
       "      <th>47</th>\n",
       "      <td>2019</td>\n",
       "      <td>1.812210</td>\n",
       "      <td>3.432389</td>\n",
       "      <td>2.288870</td>\n",
       "      <td>3.67</td>\n",
       "      <td>28.88</td>\n",
       "    </tr>\n",
       "    <tr>\n",
       "      <th>48</th>\n",
       "      <td>2020</td>\n",
       "      <td>1.233584</td>\n",
       "      <td>2.311078</td>\n",
       "      <td>-3.404590</td>\n",
       "      <td>8.05</td>\n",
       "      <td>16.26</td>\n",
       "    </tr>\n",
       "    <tr>\n",
       "      <th>49</th>\n",
       "      <td>2021</td>\n",
       "      <td>4.697859</td>\n",
       "      <td>-0.869249</td>\n",
       "      <td>5.671107</td>\n",
       "      <td>5.35</td>\n",
       "      <td>26.89</td>\n",
       "    </tr>\n",
       "  </tbody>\n",
       "</table>\n",
       "</div>"
      ],
      "text/plain": [
       "    year  Inflation, consumer prices (annual %)  Real interest rate (%)  \\\n",
       "45  2017                               2.130110                2.157870   \n",
       "46  2018                               2.442583                2.456470   \n",
       "47  2019                               1.812210                3.432389   \n",
       "48  2020                               1.233584                2.311078   \n",
       "49  2021                               4.697859               -0.869249   \n",
       "\n",
       "    GDP growth (annual %)  Unemployment, total (% of total labor force)  \\\n",
       "45               2.255680                                          4.36   \n",
       "46               2.918857                                          3.90   \n",
       "47               2.288870                                          3.67   \n",
       "48              -3.404590                                          8.05   \n",
       "49               5.671107                                          5.35   \n",
       "\n",
       "    Sandp_500_Historical_Annual_Returns  \n",
       "45                                19.42  \n",
       "46                                -6.24  \n",
       "47                                28.88  \n",
       "48                                16.26  \n",
       "49                                26.89  "
      ]
     },
     "execution_count": 217,
     "metadata": {},
     "output_type": "execute_result"
    }
   ],
   "source": [
    "df.tail()"
   ]
  },
  {
   "cell_type": "code",
   "execution_count": 218,
   "id": "b923a03d",
   "metadata": {},
   "outputs": [
    {
     "data": {
      "text/html": [
       "<div>\n",
       "<style scoped>\n",
       "    .dataframe tbody tr th:only-of-type {\n",
       "        vertical-align: middle;\n",
       "    }\n",
       "\n",
       "    .dataframe tbody tr th {\n",
       "        vertical-align: top;\n",
       "    }\n",
       "\n",
       "    .dataframe thead th {\n",
       "        text-align: right;\n",
       "    }\n",
       "</style>\n",
       "<table border=\"1\" class=\"dataframe\">\n",
       "  <thead>\n",
       "    <tr style=\"text-align: right;\">\n",
       "      <th></th>\n",
       "      <th>year</th>\n",
       "      <th>Inflation, consumer prices (annual %)</th>\n",
       "      <th>Real interest rate (%)</th>\n",
       "      <th>GDP growth (annual %)</th>\n",
       "      <th>Unemployment, total (% of total labor force)</th>\n",
       "      <th>Sandp_500_Historical_Annual_Returns</th>\n",
       "    </tr>\n",
       "  </thead>\n",
       "  <tbody>\n",
       "    <tr>\n",
       "      <th>count</th>\n",
       "      <td>50.00000</td>\n",
       "      <td>50.000000</td>\n",
       "      <td>50.000000</td>\n",
       "      <td>50.000000</td>\n",
       "      <td>50.000000</td>\n",
       "      <td>50.000000</td>\n",
       "    </tr>\n",
       "    <tr>\n",
       "      <th>mean</th>\n",
       "      <td>1996.50000</td>\n",
       "      <td>3.913957</td>\n",
       "      <td>3.881705</td>\n",
       "      <td>2.726414</td>\n",
       "      <td>6.255800</td>\n",
       "      <td>9.393000</td>\n",
       "    </tr>\n",
       "    <tr>\n",
       "      <th>std</th>\n",
       "      <td>14.57738</td>\n",
       "      <td>2.913553</td>\n",
       "      <td>2.447615</td>\n",
       "      <td>2.160849</td>\n",
       "      <td>1.587217</td>\n",
       "      <td>16.719239</td>\n",
       "    </tr>\n",
       "    <tr>\n",
       "      <th>min</th>\n",
       "      <td>1972.00000</td>\n",
       "      <td>-0.355546</td>\n",
       "      <td>-1.281419</td>\n",
       "      <td>-3.404590</td>\n",
       "      <td>3.670000</td>\n",
       "      <td>-38.490000</td>\n",
       "    </tr>\n",
       "    <tr>\n",
       "      <th>25%</th>\n",
       "      <td>1984.25000</td>\n",
       "      <td>2.144589</td>\n",
       "      <td>2.044742</td>\n",
       "      <td>1.852898</td>\n",
       "      <td>5.130000</td>\n",
       "      <td>0.265000</td>\n",
       "    </tr>\n",
       "    <tr>\n",
       "      <th>50%</th>\n",
       "      <td>1996.50000</td>\n",
       "      <td>3.092831</td>\n",
       "      <td>3.489003</td>\n",
       "      <td>2.789510</td>\n",
       "      <td>5.790000</td>\n",
       "      <td>12.590000</td>\n",
       "    </tr>\n",
       "    <tr>\n",
       "      <th>75%</th>\n",
       "      <td>2008.75000</td>\n",
       "      <td>4.598528</td>\n",
       "      <td>6.155333</td>\n",
       "      <td>4.146532</td>\n",
       "      <td>7.327500</td>\n",
       "      <td>22.652500</td>\n",
       "    </tr>\n",
       "    <tr>\n",
       "      <th>max</th>\n",
       "      <td>2021.00000</td>\n",
       "      <td>13.549202</td>\n",
       "      <td>8.594620</td>\n",
       "      <td>7.236633</td>\n",
       "      <td>9.700000</td>\n",
       "      <td>34.110000</td>\n",
       "    </tr>\n",
       "  </tbody>\n",
       "</table>\n",
       "</div>"
      ],
      "text/plain": [
       "             year  Inflation, consumer prices (annual %)  \\\n",
       "count    50.00000                              50.000000   \n",
       "mean   1996.50000                               3.913957   \n",
       "std      14.57738                               2.913553   \n",
       "min    1972.00000                              -0.355546   \n",
       "25%    1984.25000                               2.144589   \n",
       "50%    1996.50000                               3.092831   \n",
       "75%    2008.75000                               4.598528   \n",
       "max    2021.00000                              13.549202   \n",
       "\n",
       "       Real interest rate (%)  GDP growth (annual %)  \\\n",
       "count               50.000000              50.000000   \n",
       "mean                 3.881705               2.726414   \n",
       "std                  2.447615               2.160849   \n",
       "min                 -1.281419              -3.404590   \n",
       "25%                  2.044742               1.852898   \n",
       "50%                  3.489003               2.789510   \n",
       "75%                  6.155333               4.146532   \n",
       "max                  8.594620               7.236633   \n",
       "\n",
       "       Unemployment, total (% of total labor force)  \\\n",
       "count                                     50.000000   \n",
       "mean                                       6.255800   \n",
       "std                                        1.587217   \n",
       "min                                        3.670000   \n",
       "25%                                        5.130000   \n",
       "50%                                        5.790000   \n",
       "75%                                        7.327500   \n",
       "max                                        9.700000   \n",
       "\n",
       "       Sandp_500_Historical_Annual_Returns  \n",
       "count                            50.000000  \n",
       "mean                              9.393000  \n",
       "std                              16.719239  \n",
       "min                             -38.490000  \n",
       "25%                               0.265000  \n",
       "50%                              12.590000  \n",
       "75%                              22.652500  \n",
       "max                              34.110000  "
      ]
     },
     "execution_count": 218,
     "metadata": {},
     "output_type": "execute_result"
    }
   ],
   "source": [
    "df.describe()"
   ]
  },
  {
   "cell_type": "code",
   "execution_count": 219,
   "id": "bb3baaf2",
   "metadata": {
    "scrolled": true
   },
   "outputs": [
    {
     "data": {
      "image/png": "[encoded data removed]",
      "text/plain": [
       "<Figure size 1440x720 with 2 Axes>"
      ]
     },
     "metadata": {
      "needs_background": "light"
     },
     "output_type": "display_data"
    }
   ],
   "source": [
    "plt.figure(figsize = (20,10))\n",
    "sns.heatmap(data= df.corr(), annot= True )\n",
    "plt.title(\"Pairwise correlation of all the columns in the dataframe \")\n",
    "plt.show()"
   ]
  },
  {
   "cell_type": "code",
   "execution_count": 220,
   "id": "0da1857e",
   "metadata": {},
   "outputs": [],
   "source": [
    "#spliting the data frame into X_train, X_test, y_train, y_test\n",
    "import sklearn\n",
    "from sklearn.model_selection import train_test_split\n",
    "X=df.drop(columns=['Sandp_500_Historical_Annual_Returns'])\n",
    "y=df['Sandp_500_Historical_Annual_Returns']\n",
    "X_train, X_test, y_train, y_test = train_test_split(X, y, random_state=0)\n"
   ]
  },
  {
   "cell_type": "code",
   "execution_count": 221,
   "id": "ba62aa4d",
   "metadata": {},
   "outputs": [
    {
     "name": "stdout",
     "output_type": "stream",
     "text": [
      "Test set predictions:\n",
      "[ 31.01  26.33  -9.73  13.41  31.55  31.01   0.     8.99   7.06 -11.5\n",
      "   8.99  13.62  31.01]\n",
      "Test set R^2: -1.40\n"
     ]
    }
   ],
   "source": [
    "from sklearn import datasets, linear_model, metrics\n",
    "#k-nearest neighbors algorithm for regression\n",
    "from sklearn.neighbors import KNeighborsRegressor\n",
    "reg = KNeighborsRegressor(n_neighbors=1)\n",
    "reg.fit(X_train, y_train)\n",
    "print(\"Test set predictions:\\n{}\".format(reg.predict(X_test)))\n",
    "print(\"Test set R^2: {:.2f}\".format(reg.score(X_test, y_test)))"
   ]
  },
  {
   "cell_type": "code",
   "execution_count": 222,
   "id": "f0b5ef6b",
   "metadata": {},
   "outputs": [
    {
     "name": "stdout",
     "output_type": "stream",
     "text": [
      "19.49846153846154\n",
      "179.23276145750722\n",
      "627.5948000000001\n"
     ]
    }
   ],
   "source": [
    "y_pred =  reg.predict(X_test)\n",
    "print(metrics.mean_absolute_error(y_test,y_pred_KNN))\n",
    "print(mean_absolute_percentage_error(y_test, y_pred_KNN))\n",
    "print(metrics.mean_squared_error(y_test,y_pred_KNN)) "
   ]
  },
  {
   "cell_type": "code",
   "execution_count": 223,
   "id": "a5f3d832",
   "metadata": {},
   "outputs": [
    {
     "name": "stdout",
     "output_type": "stream",
     "text": [
      "-1.4029191539656463\n"
     ]
    }
   ],
   "source": [
    "from sklearn.metrics import r2_score\n",
    "R_squared_value=r2_score(y_test,y_pred )\n",
    "\n",
    "#view R-squared value\n",
    "print(R_squared_value)"
   ]
  },
  {
   "cell_type": "code",
   "execution_count": 224,
   "id": "5b4e82cc",
   "metadata": {},
   "outputs": [
    {
     "name": "stdout",
     "output_type": "stream",
     "text": [
      "lr.coef_: [ 0.120744    0.15332308  0.72436108 -0.08224622  1.27004175]\n",
      "lr.intercept_: -242.88531201862213\n",
      "Test set score: 0.10\n"
     ]
    }
   ],
   "source": [
    "#implementing Linear regression \n",
    "lr = LinearRegression().fit(X_train, y_train)\n",
    "print(\"lr.coef_: {}\".format(lr.coef_))\n",
    "print(\"lr.intercept_: {}\".format(lr.intercept_))\n",
    "print(\"Test set score: {:.2f}\".format(lr.score(X_test, y_test)))"
   ]
  },
  {
   "cell_type": "code",
   "execution_count": 225,
   "id": "b367691f",
   "metadata": {},
   "outputs": [
    {
     "name": "stdout",
     "output_type": "stream",
     "text": [
      "12.244901076551754\n",
      "130.23149706600046\n",
      "235.33593326279683\n"
     ]
    }
   ],
   "source": [
    "y_pred_reg =  lr.predict(X_test)\n",
    "from sklearn import metrics\n",
    "def mean_absolute_percentage_error(y_true, y_pred): \n",
    "    y_true, y_pred = np.array(y_true), np.array(y_pred)\n",
    "    return np.mean(np.abs((y_true - y_pred) / y_true)) * 100\n",
    "print(metrics.mean_absolute_error(y_test,y_pred_reg))\n",
    "print(mean_absolute_percentage_error(y_test, y_pred_reg))\n",
    "print(metrics.mean_squared_error(y_test,y_pred_reg)) "
   ]
  },
  {
   "cell_type": "code",
   "execution_count": 226,
   "id": "37cdb8b9",
   "metadata": {},
   "outputs": [
    {
     "name": "stdout",
     "output_type": "stream",
     "text": [
      "0.09895170952092736\n"
     ]
    }
   ],
   "source": [
    "from sklearn.metrics import r2_score\n",
    "R_squared_value=r2_score(y_test, y_pred_reg)\n",
    "\n",
    "#view R-squared value\n",
    "print(R_squared_value)"
   ]
  },
  {
   "cell_type": "code",
   "execution_count": 227,
   "id": "a1d15f13",
   "metadata": {},
   "outputs": [
    {
     "name": "stdout",
     "output_type": "stream",
     "text": [
      "Test set score: 0.10\n"
     ]
    }
   ],
   "source": [
    "#implementing Ridge regression\n",
    "from sklearn.linear_model import Ridge\n",
    "ridge = Ridge().fit(X_train, y_train)\n",
    "print(\"Test set score: {:.2f}\".format(ridge.score(X_test, y_test)))"
   ]
  },
  {
   "cell_type": "code",
   "execution_count": 228,
   "id": "0dac0134",
   "metadata": {},
   "outputs": [
    {
     "name": "stdout",
     "output_type": "stream",
     "text": [
      "12.250593192760107\n",
      "130.27151731031134\n",
      "235.89212436526785\n"
     ]
    }
   ],
   "source": [
    "y_pred_ridge =  ridge.predict(X_test)\n",
    "print(metrics.mean_absolute_error(y_test,y_pred_ridge))\n",
    "print(mean_absolute_percentage_error(y_test, y_pred_ridge))\n",
    "print(metrics.mean_squared_error(y_test,y_pred_ridge)) "
   ]
  },
  {
   "cell_type": "code",
   "execution_count": 229,
   "id": "56326773",
   "metadata": {},
   "outputs": [
    {
     "name": "stdout",
     "output_type": "stream",
     "text": [
      "0.0394775678750916\n"
     ]
    }
   ],
   "source": [
    "r_squared_ridge = ridge.score(X, y)\n",
    "\n",
    "#view R-squared value\n",
    "print(r_squared_ridge)"
   ]
  },
  {
   "cell_type": "code",
   "execution_count": 230,
   "id": "894861f7",
   "metadata": {},
   "outputs": [
    {
     "name": "stdout",
     "output_type": "stream",
     "text": [
      "Test set score: 0.08\n"
     ]
    }
   ],
   "source": [
    "\n",
    "ridge10 = Ridge(alpha=10).fit(X_train, y_train)\n",
    "print(\"Test set score: {:.2f}\".format(ridge10.score(X_test, y_test)))\n"
   ]
  },
  {
   "cell_type": "code",
   "execution_count": 231,
   "id": "e5bc79ef",
   "metadata": {},
   "outputs": [
    {
     "name": "stdout",
     "output_type": "stream",
     "text": [
      "12.293905213880652\n",
      "130.5965888719872\n",
      "239.9820661202583\n"
     ]
    }
   ],
   "source": [
    "y_pred_ridge =  ridge10.predict(X_test)\n",
    "print(metrics.mean_absolute_error(y_test,y_pred_ridge))\n",
    "print(mean_absolute_percentage_error(y_test, y_pred_ridge))\n",
    "print(metrics.mean_squared_error(y_test,y_pred_ridge)) "
   ]
  },
  {
   "cell_type": "code",
   "execution_count": 232,
   "id": "7e82255a",
   "metadata": {},
   "outputs": [
    {
     "name": "stdout",
     "output_type": "stream",
     "text": [
      "0.08116271312538148\n"
     ]
    }
   ],
   "source": [
    "R_squared_value=r2_score(y_test,y_pred_ridge )\n",
    "\n",
    "#view R-squared value\n",
    "print(R_squared_value)"
   ]
  },
  {
   "cell_type": "code",
   "execution_count": 233,
   "id": "48d16bc6",
   "metadata": {},
   "outputs": [
    {
     "name": "stdout",
     "output_type": "stream",
     "text": [
      "Test set score: 0.10\n"
     ]
    }
   ],
   "source": [
    "\n",
    "ridge01 = Ridge(alpha=0.1).fit(X_train, y_train)\n",
    "print(\"Test set score: {:.2f}\".format(ridge01.score(X_test, y_test)))\n"
   ]
  },
  {
   "cell_type": "code",
   "execution_count": 234,
   "id": "d6a0a8bb",
   "metadata": {
    "scrolled": true
   },
   "outputs": [
    {
     "name": "stdout",
     "output_type": "stream",
     "text": [
      "12.245489391061584\n",
      "130.23561381712673\n",
      "235.3926535568724\n"
     ]
    }
   ],
   "source": [
    "y_pred_ridge =  ridge01.predict(X_test)\n",
    "print(metrics.mean_absolute_error(y_test,y_pred_ridge))\n",
    "print(mean_absolute_percentage_error(y_test, y_pred_ridge))\n",
    "print(metrics.mean_squared_error(y_test,y_pred_ridge)) "
   ]
  },
  {
   "cell_type": "code",
   "execution_count": 235,
   "id": "13d66065",
   "metadata": {},
   "outputs": [
    {
     "name": "stdout",
     "output_type": "stream",
     "text": [
      "0.09873454028840223\n"
     ]
    }
   ],
   "source": [
    "R_squared_value=r2_score(y_test,y_pred_ridge )\n",
    "\n",
    "#view R-squared value\n",
    "print(R_squared_value)"
   ]
  },
  {
   "cell_type": "code",
   "execution_count": 236,
   "id": "95825f1d",
   "metadata": {},
   "outputs": [
    {
     "name": "stdout",
     "output_type": "stream",
     "text": [
      "Test set score: 0.07\n",
      "Number of features used: 4\n"
     ]
    }
   ],
   "source": [
    "#implementing Lasso regression\n",
    "from sklearn.linear_model import Lasso\n",
    "lasso = Lasso().fit(X_train, y_train)\n",
    "print(\"Test set score: {:.2f}\".format(lasso.score(X_test, y_test)))\n",
    "print(\"Number of features used: {}\".format(np.sum(lasso.coef_ != 0)))"
   ]
  },
  {
   "cell_type": "code",
   "execution_count": 237,
   "id": "6cd4a90b",
   "metadata": {},
   "outputs": [
    {
     "name": "stdout",
     "output_type": "stream",
     "text": [
      "12.601921244410711\n",
      "134.58671659400966\n",
      "242.06054439555038\n"
     ]
    }
   ],
   "source": [
    "y_pred_lasso = lasso.predict(X_test)\n",
    "print(metrics.mean_absolute_error(y_test,y_pred_lasso))\n",
    "print(mean_absolute_percentage_error(y_test, y_pred_lasso))\n",
    "print(metrics.mean_squared_error(y_test,y_pred_lasso)) "
   ]
  },
  {
   "cell_type": "code",
   "execution_count": 238,
   "id": "38cef033",
   "metadata": {},
   "outputs": [
    {
     "name": "stdout",
     "output_type": "stream",
     "text": [
      "0.07320468788552803\n"
     ]
    }
   ],
   "source": [
    "R_squared_value=r2_score(y_test, y_pred_lasso)\n",
    "\n",
    "#view R-squared value\n",
    "print(R_squared_value)"
   ]
  },
  {
   "cell_type": "code",
   "execution_count": 239,
   "id": "972dae67",
   "metadata": {},
   "outputs": [
    {
     "name": "stdout",
     "output_type": "stream",
     "text": [
      "Test set score: 0.10\n",
      "Number of features used: 5\n"
     ]
    }
   ],
   "source": [
    "lasso001 = Lasso(alpha=0.01, max_iter=100000).fit(X_train, y_train) \n",
    "print(\"Test set score: {:.2f}\".format(lasso001.score(X_test, y_test)))\n",
    "print(\"Number of features used: {}\".format(np.sum(lasso001.coef_ != 0)))"
   ]
  },
  {
   "cell_type": "code",
   "execution_count": 240,
   "id": "c1bbcb06",
   "metadata": {},
   "outputs": [
    {
     "name": "stdout",
     "output_type": "stream",
     "text": [
      "12.242707251516597\n",
      "130.23974043383103\n",
      "235.36535790368913\n"
     ]
    }
   ],
   "source": [
    "y_pred_lasso = lasso001.predict(X_test)\n",
    "print(metrics.mean_absolute_error(y_test,y_pred_lasso))\n",
    "print(mean_absolute_percentage_error(y_test, y_pred_lasso))\n",
    "print(metrics.mean_squared_error(y_test,y_pred_lasso)) "
   ]
  },
  {
   "cell_type": "code",
   "execution_count": 241,
   "id": "5c467847",
   "metadata": {},
   "outputs": [
    {
     "name": "stdout",
     "output_type": "stream",
     "text": [
      "0.09883904919742137\n"
     ]
    }
   ],
   "source": [
    "R_squared_value=r2_score(y_test, y_pred_lasso)\n",
    "\n",
    "#view R-squared value\n",
    "print(R_squared_value)"
   ]
  },
  {
   "cell_type": "code",
   "execution_count": 242,
   "id": "2c7431ac",
   "metadata": {},
   "outputs": [
    {
     "name": "stdout",
     "output_type": "stream",
     "text": [
      "Test set score: 0.10\n",
      "Number of features used: 5\n"
     ]
    }
   ],
   "source": [
    "lasso00001 = Lasso(alpha=0.0001, max_iter=100000).fit(X_train, y_train)                                                    \n",
    "print(\"Test set score: {:.2f}\".format(lasso00001.score(X_test, y_test)))\n",
    "print(\"Number of features used: {}\".format(np.sum(lasso00001.coef_ != 0)))"
   ]
  },
  {
   "cell_type": "code",
   "execution_count": 243,
   "id": "c02edc6d",
   "metadata": {},
   "outputs": [
    {
     "name": "stdout",
     "output_type": "stream",
     "text": [
      "12.2448791397379\n",
      "130.2315794853033\n",
      "235.33622606579866\n"
     ]
    }
   ],
   "source": [
    "y_pred_lasso = lasso00001.predict(X_test)\n",
    "print(metrics.mean_absolute_error(y_test,y_pred_lasso))\n",
    "print(mean_absolute_percentage_error(y_test, y_pred_lasso))\n",
    "print(metrics.mean_squared_error(y_test,y_pred_lasso)) "
   ]
  },
  {
   "cell_type": "code",
   "execution_count": 244,
   "id": "15e75018",
   "metadata": {},
   "outputs": [
    {
     "name": "stdout",
     "output_type": "stream",
     "text": [
      "0.09895058844417304\n"
     ]
    }
   ],
   "source": [
    "R_squared_value=r2_score(y_test, y_pred_lasso)\n",
    "\n",
    "#view R-squared value\n",
    "print(R_squared_value)"
   ]
  },
  {
   "cell_type": "code",
   "execution_count": 245,
   "id": "e80feda9",
   "metadata": {},
   "outputs": [
    {
     "name": "stdout",
     "output_type": "stream",
     "text": [
      "Test set score: -1.25\n"
     ]
    }
   ],
   "source": [
    "#implementing Decision TreeRegressor\n",
    "from sklearn.tree import DecisionTreeRegressor\n",
    "tree = DecisionTreeRegressor().fit(X_train, y_train)\n",
    "print(\"Test set score: {:.2f}\".format(tree.score(X_test, y_test)))"
   ]
  },
  {
   "cell_type": "code",
   "execution_count": 246,
   "id": "9c9966c9",
   "metadata": {},
   "outputs": [
    {
     "name": "stdout",
     "output_type": "stream",
     "text": [
      "Variance score: -0.4456799202606212\n"
     ]
    }
   ],
   "source": [
    "# Random Forests Regression Model\n",
    "from sklearn.ensemble import RandomForestRegressor\n",
    "\n",
    "# create random forest regression object\n",
    "forest = RandomForestRegressor(n_estimators = 100,oob_score = 'TRUE',n_jobs = -1,random_state =0)\n",
    "\n",
    "# train the model using the training sets\n",
    "model_forest = forest.fit(X_train, y_train)\n",
    "\n",
    "  \n",
    "# variance score\n",
    "print('Variance score: {}'.format(forest.score(X_test, y_test)))"
   ]
  },
  {
   "cell_type": "code",
   "execution_count": 247,
   "id": "2f1f758e",
   "metadata": {},
   "outputs": [
    {
     "name": "stdout",
     "output_type": "stream",
     "text": [
      "13.920461538461536\n",
      "142.589458847803\n",
      "377.5829074076922\n"
     ]
    }
   ],
   "source": [
    "y_pred =  model_forest.predict(X_test)\n",
    "print(metrics.mean_absolute_error(y_test,y_pred_forest))\n",
    "print(mean_absolute_percentage_error(y_test, y_pred_forest))\n",
    "print(metrics.mean_squared_error(y_test,y_pred_forest)) "
   ]
  },
  {
   "cell_type": "code",
   "execution_count": 248,
   "id": "d0dd064f",
   "metadata": {},
   "outputs": [
    {
     "name": "stdout",
     "output_type": "stream",
     "text": [
      "-0.4456799202606212\n"
     ]
    }
   ],
   "source": [
    "R_squared_value=r2_score(y_test,y_pred )\n",
    "\n",
    "#view R-squared value\n",
    "print(R_squared_value)"
   ]
  }
 ],
 "metadata": {
  "kernelspec": {
   "display_name": "Python 3 (ipykernel)",
   "language": "python",
   "name": "python3"
  },
  "language_info": {
   "codemirror_mode": {
    "name": "ipython",
    "version": 3
   },
   "file_extension": ".py",
   "mimetype": "text/x-python",
   "name": "python",
   "nbconvert_exporter": "python",
   "pygments_lexer": "ipython3",
   "version": "3.9.12"
  }
 },
 "nbformat": 4,
 "nbformat_minor": 5
}
